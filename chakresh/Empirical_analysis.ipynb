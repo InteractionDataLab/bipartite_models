{
 "cells": [
  {
   "cell_type": "code",
   "execution_count": 1,
   "metadata": {},
   "outputs": [],
   "source": [
    "from networkx.algorithms import bipartite\n",
    "from itertools import combinations\n",
    "from scipy.optimize import curve_fit\n",
    "\n",
    "import pandas as pd\n",
    "import numpy as np\n",
    "import matplotlib.pyplot as plt \n",
    "import networkx as nx \n",
    "import seaborn as sns \n",
    "%matplotlib inline "
   ]
  },
  {
   "cell_type": "code",
   "execution_count": 2,
   "metadata": {},
   "outputs": [],
   "source": [
    "DF = pd.read_csv('data/wikis_table_anon.csv',header=0,low_memory=False)"
   ]
  },
  {
   "cell_type": "code",
   "execution_count": 3,
   "metadata": {},
   "outputs": [],
   "source": [
    "DF['SignedEditSize'] = np.abs(DF['SignedEditSize'].values)"
   ]
  },
  {
   "cell_type": "code",
   "execution_count": 4,
   "metadata": {},
   "outputs": [],
   "source": [
    "DF = DF.sort_values(by=['EditTime'])"
   ]
  },
  {
   "cell_type": "code",
   "execution_count": 5,
   "metadata": {},
   "outputs": [],
   "source": [
    "DF['SetA'] = [i.strip()+':'+str(j) for i,j in zip(DF['PageName'],DF['SectionID'])]"
   ]
  },
  {
   "cell_type": "code",
   "execution_count": 6,
   "metadata": {},
   "outputs": [
    {
     "data": {
      "text/html": [
       "<div>\n",
       "<style scoped>\n",
       "    .dataframe tbody tr th:only-of-type {\n",
       "        vertical-align: middle;\n",
       "    }\n",
       "\n",
       "    .dataframe tbody tr th {\n",
       "        vertical-align: top;\n",
       "    }\n",
       "\n",
       "    .dataframe thead th {\n",
       "        text-align: right;\n",
       "    }\n",
       "</style>\n",
       "<table border=\"1\" class=\"dataframe\">\n",
       "  <thead>\n",
       "    <tr style=\"text-align: right;\">\n",
       "      <th></th>\n",
       "      <th>Year</th>\n",
       "      <th>TeamID</th>\n",
       "      <th>UserID</th>\n",
       "      <th>UserType</th>\n",
       "      <th>PageName</th>\n",
       "      <th>SectionID</th>\n",
       "      <th>ActionType</th>\n",
       "      <th>EditTime</th>\n",
       "      <th>SignedEditSize</th>\n",
       "      <th>SetA</th>\n",
       "    </tr>\n",
       "  </thead>\n",
       "  <tbody>\n",
       "    <tr>\n",
       "      <th>47459</th>\n",
       "      <td>2008</td>\n",
       "      <td>128</td>\n",
       "      <td>IGEM HQ</td>\n",
       "      <td>igemHQ</td>\n",
       "      <td>Team:MIT/Notebook</td>\n",
       "      <td>2.0</td>\n",
       "      <td>create</td>\n",
       "      <td>2008-05-12 21:10:14+00:00</td>\n",
       "      <td>0.0</td>\n",
       "      <td>Team:MIT/Notebook:2.0</td>\n",
       "    </tr>\n",
       "    <tr>\n",
       "      <th>47174</th>\n",
       "      <td>2008</td>\n",
       "      <td>128</td>\n",
       "      <td>IGEM HQ</td>\n",
       "      <td>igemHQ</td>\n",
       "      <td>Team:MIT</td>\n",
       "      <td>0.0</td>\n",
       "      <td>create</td>\n",
       "      <td>2008-05-12 21:10:14+00:00</td>\n",
       "      <td>2338.0</td>\n",
       "      <td>Team:MIT:0.0</td>\n",
       "    </tr>\n",
       "    <tr>\n",
       "      <th>47279</th>\n",
       "      <td>2008</td>\n",
       "      <td>128</td>\n",
       "      <td>IGEM HQ</td>\n",
       "      <td>igemHQ</td>\n",
       "      <td>Team:MIT/Team</td>\n",
       "      <td>0.0</td>\n",
       "      <td>create</td>\n",
       "      <td>2008-05-12 21:10:14+00:00</td>\n",
       "      <td>3015.0</td>\n",
       "      <td>Team:MIT/Team:0.0</td>\n",
       "    </tr>\n",
       "    <tr>\n",
       "      <th>47280</th>\n",
       "      <td>2008</td>\n",
       "      <td>128</td>\n",
       "      <td>IGEM HQ</td>\n",
       "      <td>igemHQ</td>\n",
       "      <td>Team:MIT/Team</td>\n",
       "      <td>2.0</td>\n",
       "      <td>create</td>\n",
       "      <td>2008-05-12 21:10:14+00:00</td>\n",
       "      <td>0.0</td>\n",
       "      <td>Team:MIT/Team:2.0</td>\n",
       "    </tr>\n",
       "    <tr>\n",
       "      <th>47281</th>\n",
       "      <td>2008</td>\n",
       "      <td>128</td>\n",
       "      <td>IGEM HQ</td>\n",
       "      <td>igemHQ</td>\n",
       "      <td>Team:MIT/Team</td>\n",
       "      <td>6.0</td>\n",
       "      <td>create</td>\n",
       "      <td>2008-05-12 21:10:14+00:00</td>\n",
       "      <td>0.0</td>\n",
       "      <td>Team:MIT/Team:6.0</td>\n",
       "    </tr>\n",
       "  </tbody>\n",
       "</table>\n",
       "</div>"
      ],
      "text/plain": [
       "       Year  TeamID   UserID UserType           PageName  SectionID  \\\n",
       "47459  2008     128  IGEM HQ   igemHQ  Team:MIT/Notebook        2.0   \n",
       "47174  2008     128  IGEM HQ   igemHQ           Team:MIT        0.0   \n",
       "47279  2008     128  IGEM HQ   igemHQ      Team:MIT/Team        0.0   \n",
       "47280  2008     128  IGEM HQ   igemHQ      Team:MIT/Team        2.0   \n",
       "47281  2008     128  IGEM HQ   igemHQ      Team:MIT/Team        6.0   \n",
       "\n",
       "      ActionType                   EditTime  SignedEditSize  \\\n",
       "47459     create  2008-05-12 21:10:14+00:00             0.0   \n",
       "47174     create  2008-05-12 21:10:14+00:00          2338.0   \n",
       "47279     create  2008-05-12 21:10:14+00:00          3015.0   \n",
       "47280     create  2008-05-12 21:10:14+00:00             0.0   \n",
       "47281     create  2008-05-12 21:10:14+00:00             0.0   \n",
       "\n",
       "                        SetA  \n",
       "47459  Team:MIT/Notebook:2.0  \n",
       "47174           Team:MIT:0.0  \n",
       "47279      Team:MIT/Team:0.0  \n",
       "47280      Team:MIT/Team:2.0  \n",
       "47281      Team:MIT/Team:6.0  "
      ]
     },
     "execution_count": 6,
     "metadata": {},
     "output_type": "execute_result"
    }
   ],
   "source": [
    "DF.head()"
   ]
  },
  {
   "cell_type": "code",
   "execution_count": 7,
   "metadata": {},
   "outputs": [],
   "source": [
    "DF['EditTime'] = pd.to_datetime(DF['EditTime'],format='%Y-%m-%d')"
   ]
  },
  {
   "cell_type": "code",
   "execution_count": 8,
   "metadata": {},
   "outputs": [],
   "source": [
    "DF['days'] = (DF['EditTime'] - DF.iloc[0]['EditTime']).dt.days"
   ]
  },
  {
   "cell_type": "code",
   "execution_count": 9,
   "metadata": {},
   "outputs": [],
   "source": [
    "DF['week'] = DF['days'].apply(lambda x: np.floor_divide(x,7))"
   ]
  },
  {
   "cell_type": "code",
   "execution_count": 10,
   "metadata": {},
   "outputs": [],
   "source": [
    "# df_grouped = DF.groupby('week') ## not correct - grouping by week doesn't mean anything"
   ]
  },
  {
   "cell_type": "code",
   "execution_count": 11,
   "metadata": {},
   "outputs": [],
   "source": [
    "df_group_teams = DF.groupby('TeamID')"
   ]
  },
  {
   "cell_type": "code",
   "execution_count": 12,
   "metadata": {},
   "outputs": [],
   "source": [
    "# Edges = [len(j) for i,j in df_grouped.groups.items()]\n",
    "\n",
    "Edges_teams = [(i,len(j)) for i,j in df_group_teams.groups.items()]"
   ]
  },
  {
   "cell_type": "code",
   "execution_count": 13,
   "metadata": {},
   "outputs": [
    {
     "data": {
      "text/plain": [
       "[(797, 21336),\n",
       " (1319, 18467),\n",
       " (863, 13189),\n",
       " (1159, 11884),\n",
       " (801, 9956),\n",
       " (302, 9679),\n",
       " (136, 9119),\n",
       " (1541, 8835),\n",
       " (1446, 8664),\n",
       " (257, 8194)]"
      ]
     },
     "execution_count": 13,
     "metadata": {},
     "output_type": "execute_result"
    }
   ],
   "source": [
    "Edges_teams = sorted(Edges_teams, key=lambda x:x[1],reverse=True)\n",
    "Edges_teams[:10]"
   ]
  },
  {
   "cell_type": "code",
   "execution_count": 14,
   "metadata": {},
   "outputs": [],
   "source": [
    "# plt.figure(figsize=(5,4))\n",
    "# # plt.plot(Edges)\n",
    "\n",
    "# plt.plot(Edges_teams)\n",
    "# # plt.xscale('log')\n",
    "# # plt.yscale('log')\n",
    "# plt.xlabel('Weeks from Start')\n",
    "# plt.ylabel('Edges')\n",
    "# plt.tight_layout()"
   ]
  },
  {
   "cell_type": "code",
   "execution_count": 15,
   "metadata": {},
   "outputs": [],
   "source": [
    "def return_bipartite_graph(D_grouped,group_id):\n",
    "    \n",
    "    df = D_grouped.get_group(group_id)\n",
    "    \n",
    "    topNodes = list(set(df['UserID']))\n",
    "    btmNodes = list(set(df['SetA']))\n",
    "    \n",
    "    edges = list(zip(df['UserID'].values,df['SetA'].values))\n",
    "    \n",
    "    G = nx.Graph()\n",
    "    G.add_nodes_from(topNodes,bipartite=0)\n",
    "    G.add_nodes_from(btmNodes,bipartite=1)\n",
    "    G.add_edges_from(edges)\n",
    "    \n",
    "    return G,topNodes,btmNodes\n",
    "\n",
    "def plot_bipartite_network(D_grouped,group_id,lbl):\n",
    "    \n",
    "    G,T,B = return_bipartite_graph(D_grouped,group_id)\n",
    "    \n",
    "    node_color = []\n",
    "    for i in G.nodes:\n",
    "        \n",
    "        if i in T:\n",
    "            node_color.append('#fc8d62')\n",
    "        else:\n",
    "            node_color.append('#8da0cb')\n",
    "    \n",
    "    plt.figure(figsize=(4,4))\n",
    "    pos = nx.nx_agraph.graphviz_layout(G)\n",
    "    nx.draw(G,pos=pos,node_color=node_color,alpha=0.8,node_size=10,edge_color='lightgray',width=0.3)\n",
    "    plt.savefig('plots/example_%s_%s.png'%(lbl,group_id),dpi=1000, transparent=True)\n",
    "    print(f' # Top Nodes (Users) - {len(T)} \\n # Bottom Nodes (Sections) - {len(B)} \\n # Edges - {len(G.edges)}')\n",
    "    return None"
   ]
  },
  {
   "cell_type": "code",
   "execution_count": 16,
   "metadata": {},
   "outputs": [
    {
     "name": "stdout",
     "output_type": "stream",
     "text": [
      " # Top Nodes (Users) - 23 \n",
      " # Bottom Nodes (Sections) - 1162 \n",
      " # Edges - 2015\n"
     ]
    },
    {
     "data": {
      "image/png": "[encoded data removed]",
      "text/plain": [
       "<Figure size 400x400 with 1 Axes>"
      ]
     },
     "metadata": {},
     "output_type": "display_data"
    }
   ],
   "source": [
    "plot_bipartite_network(df_group_teams,257,'team')"
   ]
  },
  {
   "cell_type": "code",
   "execution_count": 17,
   "metadata": {},
   "outputs": [],
   "source": [
    "G,B,T = return_bipartite_graph(df_group_teams,257)\n",
    "BiAdj = bipartite.biadjacency_matrix(G,row_order=B,column_order=T).toarray()"
   ]
  },
  {
   "cell_type": "code",
   "execution_count": 18,
   "metadata": {},
   "outputs": [],
   "source": [
    "np.savetxt('graph_matrices/test.csv',BiAdj,delimiter=',')"
   ]
  },
  {
   "cell_type": "code",
   "execution_count": 19,
   "metadata": {},
   "outputs": [],
   "source": [
    "from tqdm import tqdm\n",
    "import subprocess\n",
    "\n",
    "cmd = r'''cd /Users/chakreshsingh/Documents/bipartite_growth_models/ | Rscript mat_temp.R'''\n",
    "\n",
    "x = float(subprocess.check_output(cmd, shell=True))"
   ]
  },
  {
   "cell_type": "code",
   "execution_count": 20,
   "metadata": {},
   "outputs": [
    {
     "data": {
      "text/plain": [
       "0.6626443"
      ]
     },
     "execution_count": 20,
     "metadata": {},
     "output_type": "execute_result"
    }
   ],
   "source": [
    "x"
   ]
  },
  {
   "cell_type": "code",
   "execution_count": 21,
   "metadata": {},
   "outputs": [],
   "source": [
    "# Nestedness = {}\n",
    "\n",
    "# label = 'Weeks'\n",
    "\n",
    "# for wk in tqdm(df_grouped.groups.keys()):\n",
    "    \n",
    "#     G,T,B = return_bipartite_graph(df_grouped,wk)\n",
    "#     BiAdj = bipartite.biadjacency_matrix(G,row_order=B,column_order=T).toarray()\n",
    "#     np.savetxt('graph_matrices/test.csv',BiAdj,delimiter=',')\n",
    "    \n",
    "#     try:\n",
    "        \n",
    "#         x = float(subprocess.check_output(cmd, shell=True))\n",
    "#         Nestedness[wk] = x\n",
    "#     except:\n",
    "#         pass\n",
    "    "
   ]
  },
  {
   "cell_type": "code",
   "execution_count": 22,
   "metadata": {},
   "outputs": [],
   "source": [
    "# import json\n",
    "\n",
    "# with open('Nestedness_%s.json'%(label),'w') as f:\n",
    "    \n",
    "#     json.dump(Nestedness,f,indent=1)"
   ]
  },
  {
   "cell_type": "code",
   "execution_count": 23,
   "metadata": {},
   "outputs": [],
   "source": [
    "# N = np.array(list(Nestedness.values()))/max(Nestedness.values())\n",
    "# E = np.array(Edges)/max(Edges) \n",
    "# Ew = list(df_grouped.groups.keys())\n",
    "# Nw = list(Nestedness.keys())"
   ]
  },
  {
   "cell_type": "code",
   "execution_count": 24,
   "metadata": {},
   "outputs": [],
   "source": [
    "# fig = plt.figure(figsize=(8,3))\n",
    "# ax1 = fig.add_subplot(111)\n",
    "# ax1.plot(Ew,E,label='Edges')\n",
    "# ax2 = ax1.twinx()\n",
    "# ax2.plot(Nw,N, color='darkorange', label='Nestedness')\n",
    "\n",
    "\n",
    "# ax1.set_ylabel('Edges')\n",
    "# ax2.set_ylabel('Nestedness')\n",
    "\n",
    "# ax1.set_xlabel('Week')"
   ]
  },
  {
   "cell_type": "code",
   "execution_count": 25,
   "metadata": {},
   "outputs": [],
   "source": [
    "import powerlaw as pw"
   ]
  },
  {
   "cell_type": "code",
   "execution_count": 26,
   "metadata": {},
   "outputs": [],
   "source": [
    "# results = pw.Fit(list(dict(G.degree(T)).values()),discrete=True)\n",
    "# results.power_law.alpha\n",
    "\n",
    "# results.distribution_compare('power_law','lognormal_positive',normalized_ratio=True)"
   ]
  },
  {
   "cell_type": "code",
   "execution_count": 27,
   "metadata": {},
   "outputs": [],
   "source": [
    "def get_powerlaw_fit(degree_list):\n",
    "    \n",
    "    try:\n",
    "        result = pw.Fit(degree_list,discrete=True)\n",
    "        alpha = np.round(result.power_law.alpha,2)\n",
    "    except:\n",
    "        alpha=0\n",
    "        \n",
    "    return alpha\n",
    "\n",
    "\n",
    "def get_bip_degree_Metrics(G,T,B):\n",
    "    \n",
    "    '''\n",
    "    returns the degreee metrics for the bipartite Graph\n",
    "    \n",
    "    avg_degrees for top and bottom nodes \n",
    "    alpha for the power law fits for top and btm nodes \n",
    "    \n",
    "    \n",
    "    Note: This is not the projection graph but degrees in the bipartite mode\n",
    "    '''\n",
    "    \n",
    "    topNodes_degrees = list(dict(G.degree(T)).values())\n",
    "    btmNodes_degrees = list(dict(G.degree(B)).values())\n",
    "    \n",
    "    avgK_top = np.average(topNodes_degrees)\n",
    "    avgK_btm = np.average(btmNodes_degrees)\n",
    "    \n",
    "    alpha_top = get_powerlaw_fit(topNodes_degrees)\n",
    "    alpha_btm = get_powerlaw_fit(btmNodes_degrees)\n",
    "        \n",
    "    return avgK_top,alpha_top,avgK_btm,alpha_btm\n",
    "\n",
    "\n",
    "def get_proj_degree_Metrics(G,T,B):\n",
    "    \n",
    "    G_top = bipartite.collaboration_weighted_projected_graph(G,T)\n",
    "    G_btm = bipartite.collaboration_weighted_projected_graph(G,B)\n",
    "    \n",
    "    topNodes_degrees = list(dict(G_top.degree()).values())\n",
    "    btmNodes_degrees = list(dict(G_btm.degree()).values())\n",
    "    \n",
    "    alpha_top = get_powerlaw_fit(topNodes_degrees)\n",
    "    alpha_btm = get_powerlaw_fit(btmNodes_degrees)\n",
    "    \n",
    "    try:\n",
    "        corr_top = np.round(nx.degree_pearson_correlation_coefficient(G_top),2)\n",
    "    except:\n",
    "        corr_top = 0\n",
    "    try:\n",
    "        corr_btm = np.round(nx.degree_pearson_correlation_coefficient(G_btm),2)\n",
    "    except:\n",
    "        corr_btm = 0\n",
    "        \n",
    "    return alpha_top,corr_top,alpha_btm,corr_btm\n"
   ]
  },
  {
   "cell_type": "code",
   "execution_count": 28,
   "metadata": {},
   "outputs": [
    {
     "data": {
      "text/plain": [
       "(5.37, -0.11, 4.62, -0.24)"
      ]
     },
     "execution_count": 28,
     "metadata": {},
     "output_type": "execute_result"
    }
   ],
   "source": [
    "%%capture --no-display\n",
    "\n",
    "# get_bip_degree_Metrics(G,T,B)\n",
    "get_proj_degree_Metrics(G,T,B)"
   ]
  },
  {
   "cell_type": "code",
   "execution_count": 29,
   "metadata": {},
   "outputs": [],
   "source": [
    "def get_TopBtm_contributors(DF):\n",
    "    \n",
    "    '''\n",
    "    gives the top 5 and bottom 5 contributors by |SignedEditSize| for Graph with more than 10 unique contributors \n",
    "    else we consider contribution 0\n",
    "    \n",
    "    We ignore the edits by user - \"IGEM HQ\" \n",
    "    \n",
    "    '''\n",
    "    \n",
    "    df = DF.groupby('UserID')['SignedEditSize'].sum().sort_values()\n",
    "    \n",
    "    user,editSize = df.index.to_list(),list(df.values)\n",
    "    \n",
    "    if \"IGEM HQ\" in user: #### we remove the \"IGEM HQ\" from the user list \n",
    "    \n",
    "        idx = user.index(\"IGEM HQ\")\n",
    "        user.pop(idx)\n",
    "        editSize.pop(idx)\n",
    "\n",
    "    if len(user) >=10:\n",
    "        \n",
    "        top5 = editSize[::-1][:5]\n",
    "        btm5 = editSize[:5]\n",
    "    \n",
    "    else:\n",
    "        \n",
    "        top5 = [0]*5\n",
    "        btm5 = [0]*5\n",
    "        \n",
    "#         top5 = [editSize[0]]*5  ### if we want to consider the top and btm most contribution as a proxy\n",
    "#         btm5 = [editSize[-1]]*5\n",
    "        \n",
    "    return top5,btm5\n",
    "\n",
    "\n",
    "def get_gini(DF) -> float:\n",
    "    \n",
    "    '''\n",
    "    gives contributions by |SignedEditSize| for Graph we calculate the gini coefficient.\n",
    "    \n",
    "    returns \n",
    "        > gini co-efficient of contributions \n",
    "        > size of the team\n",
    "    \n",
    "    We ignore the edits by user - \"IGEM HQ\" \n",
    "    \n",
    "    '''\n",
    "    \n",
    "    df = DF.groupby('UserID')['SignedEditSize'].sum().sort_values()\n",
    "    \n",
    "    user,editSize = df.index.to_list(),list(df.values)\n",
    "    \n",
    "    if \"IGEM HQ\" in user: #### we remove the \"IGEM HQ\" from the user list \n",
    "    \n",
    "        idx = user.index(\"IGEM HQ\")\n",
    "        user.pop(idx)\n",
    "        editSize.pop(idx)\n",
    "    \n",
    "    editSize.sort()\n",
    "    \n",
    "    diffs = [np.abs(i-j) for i,j in combinations(editSize,2)]\n",
    "    \n",
    "    gini = np.sum(diffs)/(2*(len(editSize)**2)*np.mean(editSize))\n",
    "    \n",
    "    return np.round(gini,3),len(editSize)"
   ]
  },
  {
   "cell_type": "code",
   "execution_count": 30,
   "metadata": {},
   "outputs": [
    {
     "data": {
      "text/plain": [
       "(0.372, 14)"
      ]
     },
     "execution_count": 30,
     "metadata": {},
     "output_type": "execute_result"
    }
   ],
   "source": [
    "df_test = df_group_teams.get_group(414)\n",
    "\n",
    "get_gini(df_test)"
   ]
  },
  {
   "cell_type": "code",
   "execution_count": 31,
   "metadata": {},
   "outputs": [],
   "source": [
    "# df_list = {'team':df_group_teams}\n",
    "\n",
    "# # pipeline = [('bip_metrics',get_bip_degree_Metrics),('proj_metrics',get_proj_degree_Metrics),\\\n",
    "# #             ('get_contri',get_TopBtm_contributors)]\n",
    "\n",
    "# # def apply(G,T,B,pipeline):\n",
    "    \n",
    "# #     msr = {'avgK_bip_top':0,'avgK_bip_btm':0}\n",
    "    \n",
    "# #     for name,func in pipeline:\n",
    "\n",
    "\n",
    "# for lbl in df_list:\n",
    "    \n",
    "#     print(lbl)\n",
    "    \n",
    "#     groupd_df = df_list[lbl]\n",
    "    \n",
    "#     D = {}\n",
    "    \n",
    "#     for grp in tqdm(list(groupd_df.groups.keys())):\n",
    "        \n",
    "    \n",
    "#         graph_id = '%s_%d'%(lbl,grp)\n",
    "\n",
    "#         msr = {}\n",
    "        \n",
    "#         msr['ID'] = graph_id\n",
    "#         G,T,B = return_bipartite_graph(groupd_df,grp)\n",
    "\n",
    "#         avgK_bip_top,alpha_bip_top,avgK_bip_btm,alpha_bip_btm = get_bip_degree_Metrics(G,T,B)\n",
    "#         alpha_proj_top,corr_proj_top,alpha_proj_btm,corr_proj_btm = get_proj_degree_Metrics(G,T,B)\n",
    "\n",
    "#         df = groupd_df.get_group(grp)\n",
    "\n",
    "#         gini,size = get_gini(df)\n",
    "\n",
    "\n",
    "#         msr['avgK_bip_top'] = avgK_bip_top\n",
    "#         msr['alpha_bip_top'] = alpha_bip_top\n",
    "#         msr['avgK_bip_btm'] = avgK_bip_btm\n",
    "#         msr['alpha_bip_btm'] = alpha_bip_btm\n",
    "#         msr['alpha_proj_top'] = alpha_proj_top\n",
    "#         msr['corr_proj_top'] = corr_proj_top\n",
    "#         msr['alpha_proj_btm'] = alpha_proj_btm\n",
    "#         msr['corr_proj_btm'] = corr_proj_btm\n",
    "#         msr['gini-coeff'] = gini\n",
    "#         msr['teamSize'] = size\n",
    "        \n",
    "#         D[graph_id] = msr\n",
    "        \n",
    "#     DF = pd.DataFrame.from_dict(D,orient='index')\n",
    "    \n",
    "#     DF.to_csv('%s_dataframe.csv'%lbl,sep=',',header=True)"
   ]
  },
  {
   "cell_type": "code",
   "execution_count": 32,
   "metadata": {},
   "outputs": [],
   "source": [
    "#### Reading Dataframe \n",
    "\n",
    "DF = pd.read_csv('team_dataframe.csv',sep=',',header=0,index_col=0)"
   ]
  },
  {
   "cell_type": "code",
   "execution_count": 33,
   "metadata": {},
   "outputs": [
    {
     "data": {
      "text/html": [
       "<div>\n",
       "<style scoped>\n",
       "    .dataframe tbody tr th:only-of-type {\n",
       "        vertical-align: middle;\n",
       "    }\n",
       "\n",
       "    .dataframe tbody tr th {\n",
       "        vertical-align: top;\n",
       "    }\n",
       "\n",
       "    .dataframe thead th {\n",
       "        text-align: right;\n",
       "    }\n",
       "</style>\n",
       "<table border=\"1\" class=\"dataframe\">\n",
       "  <thead>\n",
       "    <tr style=\"text-align: right;\">\n",
       "      <th></th>\n",
       "      <th>ID</th>\n",
       "      <th>avgK_bip_top</th>\n",
       "      <th>alpha_bip_top</th>\n",
       "      <th>avgK_bip_btm</th>\n",
       "      <th>alpha_bip_btm</th>\n",
       "      <th>alpha_proj_top</th>\n",
       "      <th>corr_proj_top</th>\n",
       "      <th>alpha_proj_btm</th>\n",
       "      <th>corr_proj_btm</th>\n",
       "      <th>gini-coeff</th>\n",
       "      <th>teamSize</th>\n",
       "    </tr>\n",
       "  </thead>\n",
       "  <tbody>\n",
       "    <tr>\n",
       "      <th>team_76</th>\n",
       "      <td>team_76</td>\n",
       "      <td>12.000000</td>\n",
       "      <td>2.63</td>\n",
       "      <td>1.846154</td>\n",
       "      <td>4.59</td>\n",
       "      <td>7.09</td>\n",
       "      <td>-0.58</td>\n",
       "      <td>1.90</td>\n",
       "      <td>-0.04</td>\n",
       "      <td>0.319</td>\n",
       "      <td>7</td>\n",
       "    </tr>\n",
       "    <tr>\n",
       "      <th>team_77</th>\n",
       "      <td>team_77</td>\n",
       "      <td>7.777778</td>\n",
       "      <td>1.45</td>\n",
       "      <td>1.842105</td>\n",
       "      <td>3.82</td>\n",
       "      <td>4.66</td>\n",
       "      <td>-0.52</td>\n",
       "      <td>9.83</td>\n",
       "      <td>0.19</td>\n",
       "      <td>0.396</td>\n",
       "      <td>8</td>\n",
       "    </tr>\n",
       "    <tr>\n",
       "      <th>team_78</th>\n",
       "      <td>team_78</td>\n",
       "      <td>16.500000</td>\n",
       "      <td>1.49</td>\n",
       "      <td>2.129032</td>\n",
       "      <td>3.00</td>\n",
       "      <td>3.04</td>\n",
       "      <td>-0.67</td>\n",
       "      <td>6.78</td>\n",
       "      <td>-0.18</td>\n",
       "      <td>0.168</td>\n",
       "      <td>3</td>\n",
       "    </tr>\n",
       "    <tr>\n",
       "      <th>team_79</th>\n",
       "      <td>team_79</td>\n",
       "      <td>16.642857</td>\n",
       "      <td>2.13</td>\n",
       "      <td>2.026087</td>\n",
       "      <td>3.04</td>\n",
       "      <td>9.10</td>\n",
       "      <td>-0.21</td>\n",
       "      <td>2.01</td>\n",
       "      <td>0.02</td>\n",
       "      <td>0.401</td>\n",
       "      <td>13</td>\n",
       "    </tr>\n",
       "    <tr>\n",
       "      <th>team_80</th>\n",
       "      <td>team_80</td>\n",
       "      <td>14.250000</td>\n",
       "      <td>4.81</td>\n",
       "      <td>2.035714</td>\n",
       "      <td>3.54</td>\n",
       "      <td>NaN</td>\n",
       "      <td>NaN</td>\n",
       "      <td>7.15</td>\n",
       "      <td>-0.10</td>\n",
       "      <td>0.265</td>\n",
       "      <td>3</td>\n",
       "    </tr>\n",
       "  </tbody>\n",
       "</table>\n",
       "</div>"
      ],
      "text/plain": [
       "              ID  avgK_bip_top  alpha_bip_top  avgK_bip_btm  alpha_bip_btm  \\\n",
       "team_76  team_76     12.000000           2.63      1.846154           4.59   \n",
       "team_77  team_77      7.777778           1.45      1.842105           3.82   \n",
       "team_78  team_78     16.500000           1.49      2.129032           3.00   \n",
       "team_79  team_79     16.642857           2.13      2.026087           3.04   \n",
       "team_80  team_80     14.250000           4.81      2.035714           3.54   \n",
       "\n",
       "         alpha_proj_top  corr_proj_top  alpha_proj_btm  corr_proj_btm  \\\n",
       "team_76            7.09          -0.58            1.90          -0.04   \n",
       "team_77            4.66          -0.52            9.83           0.19   \n",
       "team_78            3.04          -0.67            6.78          -0.18   \n",
       "team_79            9.10          -0.21            2.01           0.02   \n",
       "team_80             NaN            NaN            7.15          -0.10   \n",
       "\n",
       "         gini-coeff  teamSize  \n",
       "team_76       0.319         7  \n",
       "team_77       0.396         8  \n",
       "team_78       0.168         3  \n",
       "team_79       0.401        13  \n",
       "team_80       0.265         3  "
      ]
     },
     "execution_count": 33,
     "metadata": {},
     "output_type": "execute_result"
    }
   ],
   "source": [
    "DF.head()"
   ]
  },
  {
   "cell_type": "code",
   "execution_count": 34,
   "metadata": {},
   "outputs": [
    {
     "name": "stdout",
     "output_type": "stream",
     "text": [
      "<class 'pandas.core.frame.DataFrame'>\n",
      "Index: 2296 entries, team_76 to team_2897\n",
      "Data columns (total 11 columns):\n",
      " #   Column          Non-Null Count  Dtype  \n",
      "---  ------          --------------  -----  \n",
      " 0   ID              2296 non-null   object \n",
      " 1   avgK_bip_top    2296 non-null   float64\n",
      " 2   alpha_bip_top   2246 non-null   float64\n",
      " 3   avgK_bip_btm    2296 non-null   float64\n",
      " 4   alpha_bip_btm   2249 non-null   float64\n",
      " 5   alpha_proj_top  1595 non-null   float64\n",
      " 6   corr_proj_top   1616 non-null   float64\n",
      " 7   alpha_proj_btm  2048 non-null   float64\n",
      " 8   corr_proj_btm   2079 non-null   float64\n",
      " 9   gini-coeff      2280 non-null   float64\n",
      " 10  teamSize        2296 non-null   int64  \n",
      "dtypes: float64(9), int64(1), object(1)\n",
      "memory usage: 215.2+ KB\n"
     ]
    }
   ],
   "source": [
    "DF.info()"
   ]
  },
  {
   "cell_type": "code",
   "execution_count": 35,
   "metadata": {},
   "outputs": [],
   "source": [
    "### filling NA by meidans\n",
    "for col in DF.columns[1:]:\n",
    "    DF[col].fillna(DF[col].median(),inplace=True)\n",
    "\n"
   ]
  },
  {
   "cell_type": "code",
   "execution_count": 36,
   "metadata": {},
   "outputs": [
    {
     "name": "stdout",
     "output_type": "stream",
     "text": [
      "<class 'pandas.core.frame.DataFrame'>\n",
      "Index: 2296 entries, team_76 to team_2897\n",
      "Data columns (total 11 columns):\n",
      " #   Column          Non-Null Count  Dtype  \n",
      "---  ------          --------------  -----  \n",
      " 0   ID              2296 non-null   object \n",
      " 1   avgK_bip_top    2296 non-null   float64\n",
      " 2   alpha_bip_top   2296 non-null   float64\n",
      " 3   avgK_bip_btm    2296 non-null   float64\n",
      " 4   alpha_bip_btm   2296 non-null   float64\n",
      " 5   alpha_proj_top  2296 non-null   float64\n",
      " 6   corr_proj_top   2296 non-null   float64\n",
      " 7   alpha_proj_btm  2296 non-null   float64\n",
      " 8   corr_proj_btm   2296 non-null   float64\n",
      " 9   gini-coeff      2296 non-null   float64\n",
      " 10  teamSize        2296 non-null   int64  \n",
      "dtypes: float64(9), int64(1), object(1)\n",
      "memory usage: 215.2+ KB\n"
     ]
    }
   ],
   "source": [
    "DF.info()"
   ]
  },
  {
   "cell_type": "code",
   "execution_count": 37,
   "metadata": {},
   "outputs": [],
   "source": [
    "from sklearn.preprocessing import StandardScaler\n",
    "\n",
    "ss = StandardScaler()"
   ]
  },
  {
   "cell_type": "code",
   "execution_count": 38,
   "metadata": {},
   "outputs": [],
   "source": [
    "features = DF.columns[1:]"
   ]
  },
  {
   "cell_type": "code",
   "execution_count": 39,
   "metadata": {},
   "outputs": [],
   "source": [
    "X = ss.fit_transform(DF[features])"
   ]
  },
  {
   "cell_type": "code",
   "execution_count": 40,
   "metadata": {},
   "outputs": [],
   "source": [
    "from sklearn.manifold import TSNE"
   ]
  },
  {
   "cell_type": "code",
   "execution_count": 41,
   "metadata": {},
   "outputs": [],
   "source": [
    "tsne = TSNE(n_components=2, learning_rate=100,perplexity=10,random_state=43)"
   ]
  },
  {
   "cell_type": "code",
   "execution_count": 42,
   "metadata": {},
   "outputs": [],
   "source": [
    "X_t = tsne.fit_transform(X)"
   ]
  },
  {
   "cell_type": "code",
   "execution_count": 43,
   "metadata": {},
   "outputs": [
    {
     "data": {
      "text/plain": [
       "<matplotlib.collections.PathCollection at 0x2eb2e48b0>"
      ]
     },
     "execution_count": 43,
     "metadata": {},
     "output_type": "execute_result"
    },
    {
     "data": {
      "image/png": "[encoded data removed]",
      "text/plain": [
       "<Figure size 640x480 with 1 Axes>"
      ]
     },
     "metadata": {},
     "output_type": "display_data"
    }
   ],
   "source": [
    "plt.scatter(X_t[:,0],X_t[:,1],s=15)"
   ]
  },
  {
   "cell_type": "code",
   "execution_count": 44,
   "metadata": {},
   "outputs": [],
   "source": [
    "from sklearn.metrics.pairwise import cosine_similarity"
   ]
  },
  {
   "cell_type": "code",
   "execution_count": 45,
   "metadata": {},
   "outputs": [],
   "source": [
    "CS = cosine_similarity(X,dense_output=True)"
   ]
  },
  {
   "cell_type": "code",
   "execution_count": 46,
   "metadata": {},
   "outputs": [],
   "source": [
    "labels = DF['ID'].values.tolist()"
   ]
  },
  {
   "cell_type": "code",
   "execution_count": 47,
   "metadata": {},
   "outputs": [],
   "source": [
    "thresh = 0.85\n",
    "\n",
    "Graph_Edges = []\n",
    "\n",
    "for i in range(len(labels)):\n",
    "\n",
    "    for j in range(i+1,len(labels)):\n",
    "\n",
    "        if CS[i][j] >= thresh:\n",
    "\n",
    "            Graph_Edges.append((labels[i],labels[j]))\n"
   ]
  },
  {
   "cell_type": "code",
   "execution_count": 48,
   "metadata": {},
   "outputs": [],
   "source": [
    "# Th = np.linspace(0.6,0.99,50)\n",
    "\n",
    "\n",
    "# Nc = []\n",
    "# N = []\n",
    "# Gcc = []\n",
    "# E = []\n",
    "\n",
    "\n",
    "# for thresh in tqdm(Th):\n",
    "#     Graph_Edges = []\n",
    "#     G = nx.Graph()\n",
    "    \n",
    "#     for i in range(len(labels)):\n",
    "\n",
    "#         for j in range(i+1,len(labels)):\n",
    "\n",
    "#             if CS[i][j] >= thresh:\n",
    "\n",
    "#                 Graph_Edges.append((labels[i],labels[j]))\n",
    "\n",
    "    \n",
    "#     E.append(len(Graph_Edges))\n",
    "#     G.add_edges_from(Graph_Edges)\n",
    "#     N.append(len(G.nodes))\n",
    "#     Nc.append(nx.number_connected_components(G))\n",
    "#     Gcc.append(len(max(nx.connected_components(G),key=len)))"
   ]
  },
  {
   "cell_type": "code",
   "execution_count": 49,
   "metadata": {},
   "outputs": [],
   "source": [
    "# plt.figure(figsize=(4,4))\n",
    "# plt.plot(Th,E,'--o',label='Edges')\n",
    "# plt.plot(Th,N,'--s',label='Nodes')\n",
    "# plt.plot(Th,Nc,'--d',label='Components')\n",
    "# plt.plot(Th,Gcc,'--p',label='GCC')\n",
    "# plt.yscale('log')\n",
    "# plt.xlabel('Threshold')\n",
    "# plt.legend()\n",
    "# plt.tight_layout()\n",
    "# plt.savefig('plots/teams_graph_msr.png',dpi=600)\n",
    "# plt.show()"
   ]
  },
  {
   "cell_type": "code",
   "execution_count": 50,
   "metadata": {},
   "outputs": [],
   "source": [
    "# with open('teams_graphs.csv','w') as f:\n",
    "    \n",
    "#     f.write('source,target\\n')\n",
    "#     for e in Graph_Edges:\n",
    "        \n",
    "#         f.write('%s,%s\\n'%(e[0],e[1]))"
   ]
  },
  {
   "cell_type": "code",
   "execution_count": 51,
   "metadata": {},
   "outputs": [],
   "source": [
    "def user_obj_cdf(k,k0,r,s):\n",
    "    \n",
    "    return 1 - ((k+k0)/k0)**(-r/s)\n",
    "\n",
    "def ramasco_pdf(k,y,n):\n",
    "    \n",
    "    return (k+(y-0.5)*(n-1))**(-y)\n",
    "\n",
    "def ramasco_cdf(k,y,n=10):\n",
    "    \n",
    "    return -1*(y*(k+(n-1)(y-0.5))**(-y))/(k+(n-1)(y-0.5))"
   ]
  },
  {
   "cell_type": "code",
   "execution_count": 52,
   "metadata": {},
   "outputs": [],
   "source": [
    "def get_cdf(arr):\n",
    "    \n",
    "    unique = sorted(np.unique(arr))\n",
    "    \n",
    "    cdf = np.zeros(len(unique))\n",
    "    \n",
    "    for i,val in enumerate(sorted(unique)):\n",
    "        \n",
    "        cdf[i] = np.sum(arr<=val)/len(arr)\n",
    "        \n",
    "    return cdf"
   ]
  },
  {
   "cell_type": "code",
   "execution_count": 55,
   "metadata": {},
   "outputs": [],
   "source": [
    "from sklearn.metrics import r2_score\n",
    "from scipy.stats import ks_2samp\n",
    "\n",
    "def fit_cdf(model,xdata,ydata,metric='ks'):\n",
    "    \n",
    "    try:\n",
    "        \n",
    "        params,pcov = curve_fit(model,xdata,ydata)\n",
    "        y_pred = model(xdata,*params)\n",
    "\n",
    "        if metric=='ks':\n",
    "            \n",
    "            return ks_2samp(y_pred,ydata,alternative='two-sided')\n",
    "        else:\n",
    "        \n",
    "            return r2_score(ydata,y_pred)\n",
    "\n",
    "    except:\n",
    "        \n",
    "        return np.nan"
   ]
  },
  {
   "cell_type": "code",
   "execution_count": 108,
   "metadata": {},
   "outputs": [
    {
     "name": "stdout",
     "output_type": "stream",
     "text": [
      "team\n"
     ]
    },
    {
     "name": "stderr",
     "output_type": "stream",
     "text": [
      "100%|███████████████████████████████████████| 2296/2296 [00:49<00:00, 46.01it/s]\n"
     ]
    }
   ],
   "source": [
    "import warnings\n",
    "\n",
    "warnings.filterwarnings('ignore')\n",
    "\n",
    "df_list = {'team':df_group_teams}\n",
    "\n",
    "# pipeline = [('bip_metrics',get_bip_degree_Metrics),('proj_metrics',get_proj_degree_Metrics),\\\n",
    "#             ('get_contri',get_TopBtm_contributors)]\n",
    "\n",
    "# def apply(G,T,B,pipeline):\n",
    "    \n",
    "#     msr = {'avgK_bip_top':0,'avgK_bip_btm':0}\n",
    "    \n",
    "#     for name,func in pipeline:\n",
    "\n",
    "\n",
    "Fit = {}\n",
    "\n",
    "R2 = {}\n",
    "KS = {}\n",
    "\n",
    "for lbl in df_list:\n",
    "    \n",
    "    print(lbl)\n",
    "    \n",
    "    groupd_df = df_list[lbl]\n",
    "    \n",
    "    D = {}\n",
    "    \n",
    "    for grp in tqdm(list(groupd_df.groups.keys())):\n",
    "        \n",
    "    \n",
    "        graph_id = '%s_%d'%(lbl,grp)\n",
    "\n",
    "        msr = {}\n",
    "        \n",
    "        msr['ID'] = graph_id\n",
    "        G,T,B = return_bipartite_graph(groupd_df,grp)\n",
    "        \n",
    "#         G_top = bipartite.collaboration_weighted_projected_graph(G,T)\n",
    "        G_btm = bipartite.collaboration_weighted_projected_graph(G,B)\n",
    "        \n",
    "#         topNodes_proj_degrees = list(dict(G_top.degree()).values())\n",
    "        btmNodes_proj_degrees = list(dict(G_btm.degree()).values())\n",
    "\n",
    "        topDeg = list(dict(G.degree(T)).values())\n",
    "    \n",
    "        btmNodes_proj_degrees = np.array(sorted(btmNodes_proj_degrees))\n",
    "        topDeg = np.array(sorted(topDeg))\n",
    "        \n",
    "        \n",
    "        cdf_btmProj = get_cdf(btmNodes_proj_degrees)\n",
    "        cdf_top = get_cdf(topDeg)\n",
    "        \n",
    "        x1 = sorted(np.unique(topDeg))\n",
    "        x2 = sorted(np.unique(btmNodes_proj_degrees))\n",
    "        \n",
    "#         msr['KS_Ramasco'] = fit_cdf(ramasco_cdf,x2,cdf_btmProj)\n",
    "        msr['KS_UOM'] = fit_cdf(user_obj_cdf,x1,cdf_top)\n",
    "        \n",
    "        D[graph_id] = msr\n",
    "        \n",
    "        \n",
    "#         plt.plot(x1,cdf_top,'--o')\n",
    "#         plt.plot(x2,cdf_btmProj,'--s')\n",
    "#         plt.show()\n",
    "        "
   ]
  },
  {
   "cell_type": "code",
   "execution_count": 109,
   "metadata": {},
   "outputs": [],
   "source": [
    "# a = np.array([1,2,3,4,5,2,3,1,7,5,3,5,4,4,3,4,3,9,8,7])\n",
    "# cdf_a = get_cdf(a)\n",
    "# plt.plot(sorted(np.unique(a)),cdf_a,'--o')"
   ]
  },
  {
   "cell_type": "code",
   "execution_count": 110,
   "metadata": {},
   "outputs": [],
   "source": [
    "from sympy import *"
   ]
  },
  {
   "cell_type": "code",
   "execution_count": 111,
   "metadata": {},
   "outputs": [],
   "source": [
    "n = Symbol('n')\n",
    "y = Symbol('y')\n",
    "k=Symbol('k')"
   ]
  },
  {
   "cell_type": "code",
   "execution_count": 112,
   "metadata": {},
   "outputs": [
    {
     "data": {
      "text/latex": [
       "$\\displaystyle - \\frac{y \\left(k + \\left(n - 1\\right) \\left(y - 0.5\\right)\\right)^{- y}}{k + \\left(n - 1\\right) \\left(y - 0.5\\right)}$"
      ],
      "text/plain": [
       "-y/((k + (n - 1)*(y - 0.5))*(k + (n - 1)*(y - 0.5))**y)"
      ]
     },
     "execution_count": 112,
     "metadata": {},
     "output_type": "execute_result"
    }
   ],
   "source": [
    "diff((k+(y-0.5)*(n-1))**(-y),k)"
   ]
  },
  {
   "cell_type": "code",
   "execution_count": 113,
   "metadata": {},
   "outputs": [],
   "source": [
    "DF_r2 = pd.DataFrame.from_dict(D,orient='index')"
   ]
  },
  {
   "cell_type": "code",
   "execution_count": 114,
   "metadata": {},
   "outputs": [
    {
     "data": {
      "text/html": [
       "<div>\n",
       "<style scoped>\n",
       "    .dataframe tbody tr th:only-of-type {\n",
       "        vertical-align: middle;\n",
       "    }\n",
       "\n",
       "    .dataframe tbody tr th {\n",
       "        vertical-align: top;\n",
       "    }\n",
       "\n",
       "    .dataframe thead th {\n",
       "        text-align: right;\n",
       "    }\n",
       "</style>\n",
       "<table border=\"1\" class=\"dataframe\">\n",
       "  <thead>\n",
       "    <tr style=\"text-align: right;\">\n",
       "      <th></th>\n",
       "      <th>ID</th>\n",
       "      <th>KS_UOM</th>\n",
       "    </tr>\n",
       "  </thead>\n",
       "  <tbody>\n",
       "    <tr>\n",
       "      <th>team_76</th>\n",
       "      <td>team_76</td>\n",
       "      <td>(0.16666666666666666, 0.9999999999999998)</td>\n",
       "    </tr>\n",
       "    <tr>\n",
       "      <th>team_77</th>\n",
       "      <td>team_77</td>\n",
       "      <td>(0.16666666666666666, 0.9999999999999998)</td>\n",
       "    </tr>\n",
       "    <tr>\n",
       "      <th>team_78</th>\n",
       "      <td>team_78</td>\n",
       "      <td>NaN</td>\n",
       "    </tr>\n",
       "    <tr>\n",
       "      <th>team_79</th>\n",
       "      <td>team_79</td>\n",
       "      <td>(0.08333333333333333, 1.0)</td>\n",
       "    </tr>\n",
       "    <tr>\n",
       "      <th>team_80</th>\n",
       "      <td>team_80</td>\n",
       "      <td>(0.25, 1.0)</td>\n",
       "    </tr>\n",
       "    <tr>\n",
       "      <th>...</th>\n",
       "      <td>...</td>\n",
       "      <td>...</td>\n",
       "    </tr>\n",
       "    <tr>\n",
       "      <th>team_2892</th>\n",
       "      <td>team_2892</td>\n",
       "      <td>NaN</td>\n",
       "    </tr>\n",
       "    <tr>\n",
       "      <th>team_2893</th>\n",
       "      <td>team_2893</td>\n",
       "      <td>(0.2857142857142857, 0.9627039627039629)</td>\n",
       "    </tr>\n",
       "    <tr>\n",
       "      <th>team_2895</th>\n",
       "      <td>team_2895</td>\n",
       "      <td>(0.14285714285714285, 0.9999609537692629)</td>\n",
       "    </tr>\n",
       "    <tr>\n",
       "      <th>team_2896</th>\n",
       "      <td>team_2896</td>\n",
       "      <td>(0.2857142857142857, 0.9627039627039629)</td>\n",
       "    </tr>\n",
       "    <tr>\n",
       "      <th>team_2897</th>\n",
       "      <td>team_2897</td>\n",
       "      <td>(0.25, 1.0)</td>\n",
       "    </tr>\n",
       "  </tbody>\n",
       "</table>\n",
       "<p>2296 rows × 2 columns</p>\n",
       "</div>"
      ],
      "text/plain": [
       "                  ID                                     KS_UOM\n",
       "team_76      team_76  (0.16666666666666666, 0.9999999999999998)\n",
       "team_77      team_77  (0.16666666666666666, 0.9999999999999998)\n",
       "team_78      team_78                                        NaN\n",
       "team_79      team_79                 (0.08333333333333333, 1.0)\n",
       "team_80      team_80                                (0.25, 1.0)\n",
       "...              ...                                        ...\n",
       "team_2892  team_2892                                        NaN\n",
       "team_2893  team_2893   (0.2857142857142857, 0.9627039627039629)\n",
       "team_2895  team_2895  (0.14285714285714285, 0.9999609537692629)\n",
       "team_2896  team_2896   (0.2857142857142857, 0.9627039627039629)\n",
       "team_2897  team_2897                                (0.25, 1.0)\n",
       "\n",
       "[2296 rows x 2 columns]"
      ]
     },
     "execution_count": 114,
     "metadata": {},
     "output_type": "execute_result"
    }
   ],
   "source": [
    "DF_r2"
   ]
  },
  {
   "cell_type": "code",
   "execution_count": 115,
   "metadata": {},
   "outputs": [],
   "source": [
    "# DF_r2['R2_UOM'].fillna(np.nanmean(DF_r2['R2_UOM'].values),inplace=True)"
   ]
  },
  {
   "cell_type": "code",
   "execution_count": 116,
   "metadata": {},
   "outputs": [],
   "source": [
    "import seaborn as sns"
   ]
  },
  {
   "cell_type": "code",
   "execution_count": 117,
   "metadata": {},
   "outputs": [],
   "source": [
    "ks_dist = []\n",
    "\n",
    "for ks in DF_r2.KS_UOM.values:\n",
    "    if type(ks) != float:\n",
    "        dk,p = ks[0],ks[1]\n",
    "        if p>0.05:\n",
    "            ks_dist.append(dk)"
   ]
  },
  {
   "cell_type": "code",
   "execution_count": 118,
   "metadata": {},
   "outputs": [
    {
     "data": {
      "text/plain": [
       "Text(0, 0.5, 'KS Statistic , p-value> 0.05')"
      ]
     },
     "execution_count": 118,
     "metadata": {},
     "output_type": "execute_result"
    },
    {
     "data": {
      "image/png": "[encoded data removed]",
      "text/plain": [
       "<Figure size 400x400 with 1 Axes>"
      ]
     },
     "metadata": {},
     "output_type": "display_data"
    }
   ],
   "source": [
    "plt.figure(figsize=(4,4))\n",
    "sns.boxplot(ks_dist)\n",
    "plt.xticks([0],labels=['User-Object Model'])\n",
    "plt.ylabel('KS Statistic , p-value> 0.05')"
   ]
  },
  {
   "cell_type": "code",
   "execution_count": 119,
   "metadata": {},
   "outputs": [],
   "source": [
    "# DF_r2.info()"
   ]
  },
  {
   "cell_type": "code",
   "execution_count": 122,
   "metadata": {},
   "outputs": [],
   "source": [
    "DF = pd.read_csv('team_dataframe.csv',sep=',',header=0,index_col=0)"
   ]
  },
  {
   "cell_type": "code",
   "execution_count": 123,
   "metadata": {},
   "outputs": [
    {
     "data": {
      "text/html": [
       "<div>\n",
       "<style scoped>\n",
       "    .dataframe tbody tr th:only-of-type {\n",
       "        vertical-align: middle;\n",
       "    }\n",
       "\n",
       "    .dataframe tbody tr th {\n",
       "        vertical-align: top;\n",
       "    }\n",
       "\n",
       "    .dataframe thead th {\n",
       "        text-align: right;\n",
       "    }\n",
       "</style>\n",
       "<table border=\"1\" class=\"dataframe\">\n",
       "  <thead>\n",
       "    <tr style=\"text-align: right;\">\n",
       "      <th></th>\n",
       "      <th>ID</th>\n",
       "      <th>avgK_bip_top</th>\n",
       "      <th>alpha_bip_top</th>\n",
       "      <th>avgK_bip_btm</th>\n",
       "      <th>alpha_bip_btm</th>\n",
       "      <th>alpha_proj_top</th>\n",
       "      <th>corr_proj_top</th>\n",
       "      <th>alpha_proj_btm</th>\n",
       "      <th>corr_proj_btm</th>\n",
       "      <th>gini-coeff</th>\n",
       "      <th>teamSize</th>\n",
       "    </tr>\n",
       "  </thead>\n",
       "  <tbody>\n",
       "    <tr>\n",
       "      <th>team_76</th>\n",
       "      <td>team_76</td>\n",
       "      <td>12.000000</td>\n",
       "      <td>2.63</td>\n",
       "      <td>1.846154</td>\n",
       "      <td>4.59</td>\n",
       "      <td>7.09</td>\n",
       "      <td>-0.58</td>\n",
       "      <td>1.90</td>\n",
       "      <td>-0.04</td>\n",
       "      <td>0.319</td>\n",
       "      <td>7</td>\n",
       "    </tr>\n",
       "    <tr>\n",
       "      <th>team_77</th>\n",
       "      <td>team_77</td>\n",
       "      <td>7.777778</td>\n",
       "      <td>1.45</td>\n",
       "      <td>1.842105</td>\n",
       "      <td>3.82</td>\n",
       "      <td>4.66</td>\n",
       "      <td>-0.52</td>\n",
       "      <td>9.83</td>\n",
       "      <td>0.19</td>\n",
       "      <td>0.396</td>\n",
       "      <td>8</td>\n",
       "    </tr>\n",
       "    <tr>\n",
       "      <th>team_78</th>\n",
       "      <td>team_78</td>\n",
       "      <td>16.500000</td>\n",
       "      <td>1.49</td>\n",
       "      <td>2.129032</td>\n",
       "      <td>3.00</td>\n",
       "      <td>3.04</td>\n",
       "      <td>-0.67</td>\n",
       "      <td>6.78</td>\n",
       "      <td>-0.18</td>\n",
       "      <td>0.168</td>\n",
       "      <td>3</td>\n",
       "    </tr>\n",
       "    <tr>\n",
       "      <th>team_79</th>\n",
       "      <td>team_79</td>\n",
       "      <td>16.642857</td>\n",
       "      <td>2.13</td>\n",
       "      <td>2.026087</td>\n",
       "      <td>3.04</td>\n",
       "      <td>9.10</td>\n",
       "      <td>-0.21</td>\n",
       "      <td>2.01</td>\n",
       "      <td>0.02</td>\n",
       "      <td>0.401</td>\n",
       "      <td>13</td>\n",
       "    </tr>\n",
       "    <tr>\n",
       "      <th>team_80</th>\n",
       "      <td>team_80</td>\n",
       "      <td>14.250000</td>\n",
       "      <td>4.81</td>\n",
       "      <td>2.035714</td>\n",
       "      <td>3.54</td>\n",
       "      <td>NaN</td>\n",
       "      <td>NaN</td>\n",
       "      <td>7.15</td>\n",
       "      <td>-0.10</td>\n",
       "      <td>0.265</td>\n",
       "      <td>3</td>\n",
       "    </tr>\n",
       "    <tr>\n",
       "      <th>...</th>\n",
       "      <td>...</td>\n",
       "      <td>...</td>\n",
       "      <td>...</td>\n",
       "      <td>...</td>\n",
       "      <td>...</td>\n",
       "      <td>...</td>\n",
       "      <td>...</td>\n",
       "      <td>...</td>\n",
       "      <td>...</td>\n",
       "      <td>...</td>\n",
       "      <td>...</td>\n",
       "    </tr>\n",
       "    <tr>\n",
       "      <th>team_2892</th>\n",
       "      <td>team_2892</td>\n",
       "      <td>26.000000</td>\n",
       "      <td>NaN</td>\n",
       "      <td>1.000000</td>\n",
       "      <td>NaN</td>\n",
       "      <td>NaN</td>\n",
       "      <td>0.00</td>\n",
       "      <td>NaN</td>\n",
       "      <td>NaN</td>\n",
       "      <td>NaN</td>\n",
       "      <td>0</td>\n",
       "    </tr>\n",
       "    <tr>\n",
       "      <th>team_2893</th>\n",
       "      <td>team_2893</td>\n",
       "      <td>10.300000</td>\n",
       "      <td>1.42</td>\n",
       "      <td>3.961538</td>\n",
       "      <td>6.76</td>\n",
       "      <td>3.42</td>\n",
       "      <td>-0.43</td>\n",
       "      <td>NaN</td>\n",
       "      <td>NaN</td>\n",
       "      <td>0.346</td>\n",
       "      <td>9</td>\n",
       "    </tr>\n",
       "    <tr>\n",
       "      <th>team_2895</th>\n",
       "      <td>team_2895</td>\n",
       "      <td>11.571429</td>\n",
       "      <td>1.60</td>\n",
       "      <td>2.131579</td>\n",
       "      <td>4.86</td>\n",
       "      <td>5.41</td>\n",
       "      <td>-0.37</td>\n",
       "      <td>4.45</td>\n",
       "      <td>-0.19</td>\n",
       "      <td>0.190</td>\n",
       "      <td>6</td>\n",
       "    </tr>\n",
       "    <tr>\n",
       "      <th>team_2896</th>\n",
       "      <td>team_2896</td>\n",
       "      <td>9.444444</td>\n",
       "      <td>4.82</td>\n",
       "      <td>2.741935</td>\n",
       "      <td>8.05</td>\n",
       "      <td>3.04</td>\n",
       "      <td>-0.56</td>\n",
       "      <td>8.61</td>\n",
       "      <td>-0.16</td>\n",
       "      <td>0.420</td>\n",
       "      <td>8</td>\n",
       "    </tr>\n",
       "    <tr>\n",
       "      <th>team_2897</th>\n",
       "      <td>team_2897</td>\n",
       "      <td>12.200000</td>\n",
       "      <td>4.76</td>\n",
       "      <td>2.033333</td>\n",
       "      <td>6.61</td>\n",
       "      <td>NaN</td>\n",
       "      <td>NaN</td>\n",
       "      <td>2.69</td>\n",
       "      <td>-0.11</td>\n",
       "      <td>0.241</td>\n",
       "      <td>4</td>\n",
       "    </tr>\n",
       "  </tbody>\n",
       "</table>\n",
       "<p>2296 rows × 11 columns</p>\n",
       "</div>"
      ],
      "text/plain": [
       "                  ID  avgK_bip_top  alpha_bip_top  avgK_bip_btm  \\\n",
       "team_76      team_76     12.000000           2.63      1.846154   \n",
       "team_77      team_77      7.777778           1.45      1.842105   \n",
       "team_78      team_78     16.500000           1.49      2.129032   \n",
       "team_79      team_79     16.642857           2.13      2.026087   \n",
       "team_80      team_80     14.250000           4.81      2.035714   \n",
       "...              ...           ...            ...           ...   \n",
       "team_2892  team_2892     26.000000            NaN      1.000000   \n",
       "team_2893  team_2893     10.300000           1.42      3.961538   \n",
       "team_2895  team_2895     11.571429           1.60      2.131579   \n",
       "team_2896  team_2896      9.444444           4.82      2.741935   \n",
       "team_2897  team_2897     12.200000           4.76      2.033333   \n",
       "\n",
       "           alpha_bip_btm  alpha_proj_top  corr_proj_top  alpha_proj_btm  \\\n",
       "team_76             4.59            7.09          -0.58            1.90   \n",
       "team_77             3.82            4.66          -0.52            9.83   \n",
       "team_78             3.00            3.04          -0.67            6.78   \n",
       "team_79             3.04            9.10          -0.21            2.01   \n",
       "team_80             3.54             NaN            NaN            7.15   \n",
       "...                  ...             ...            ...             ...   \n",
       "team_2892            NaN             NaN           0.00             NaN   \n",
       "team_2893           6.76            3.42          -0.43             NaN   \n",
       "team_2895           4.86            5.41          -0.37            4.45   \n",
       "team_2896           8.05            3.04          -0.56            8.61   \n",
       "team_2897           6.61             NaN            NaN            2.69   \n",
       "\n",
       "           corr_proj_btm  gini-coeff  teamSize  \n",
       "team_76            -0.04       0.319         7  \n",
       "team_77             0.19       0.396         8  \n",
       "team_78            -0.18       0.168         3  \n",
       "team_79             0.02       0.401        13  \n",
       "team_80            -0.10       0.265         3  \n",
       "...                  ...         ...       ...  \n",
       "team_2892            NaN         NaN         0  \n",
       "team_2893            NaN       0.346         9  \n",
       "team_2895          -0.19       0.190         6  \n",
       "team_2896          -0.16       0.420         8  \n",
       "team_2897          -0.11       0.241         4  \n",
       "\n",
       "[2296 rows x 11 columns]"
      ]
     },
     "execution_count": 123,
     "metadata": {},
     "output_type": "execute_result"
    }
   ],
   "source": [
    "DF"
   ]
  },
  {
   "cell_type": "code",
   "execution_count": null,
   "metadata": {},
   "outputs": [],
   "source": []
  }
 ],
 "metadata": {
  "kernelspec": {
   "display_name": "Python 3 (ipykernel)",
   "language": "python",
   "name": "python3"
  },
  "language_info": {
   "codemirror_mode": {
    "name": "ipython",
    "version": 3
   },
   "file_extension": ".py",
   "mimetype": "text/x-python",
   "name": "python",
   "nbconvert_exporter": "python",
   "pygments_lexer": "ipython3",
   "version": "3.9.16"
  }
 },
 "nbformat": 4,
 "nbformat_minor": 4
}
